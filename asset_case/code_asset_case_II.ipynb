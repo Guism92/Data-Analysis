{
 "cells": [
  {
   "cell_type": "markdown",
   "metadata": {},
   "source": [
    "# Bibliotecas"
   ]
  },
  {
   "cell_type": "code",
   "execution_count": 23,
   "metadata": {},
   "outputs": [],
   "source": [
    "import pandas as pd\n",
    "from pandasql import sqldf\n",
    "pysqldf = lambda q: sqldf(q, globals())"
   ]
  },
  {
   "cell_type": "markdown",
   "metadata": {},
   "source": [
    "# Importação"
   ]
  },
  {
   "cell_type": "code",
   "execution_count": 24,
   "metadata": {},
   "outputs": [
    {
     "name": "stdout",
     "output_type": "stream",
     "text": [
      "        DATAPREGAO   CODNEG  PREULT  TOTNEG\n",
      "0         20220801   A1BB34    3888       1\n",
      "1         20220801   A1CR34    6734     113\n",
      "2         20220801   A1DM34   43645       4\n",
      "3         20220801   A1EG34    2259       5\n",
      "4         20220801   A1EN34   31424      60\n",
      "...            ...      ...     ...     ...\n",
      "181801    20221018  ITSAI99     237       1\n",
      "181802    20221019  ITSAI99     242       3\n",
      "181803    20221021  ITSAI99     268       1\n",
      "181804    20221024  ITSAI99     259       1\n",
      "181805    20221025  ITSAI99     253       4\n",
      "\n",
      "[564011 rows x 4 columns]\n"
     ]
    }
   ],
   "source": [
    "# Dados obtidos do site da B3\n",
    "# https://www.b3.com.br/pt_br/market-data-e-indices/servicos-de-dados/market-data/historico/mercado-a-vista/series-historicas/\n",
    "df_cota_ago = pd.read_csv('COTAHIST_M082022.csv', sep=';')\n",
    "df_cota_set = pd.read_csv('COTAHIST_M092022.csv', sep=';')\n",
    "df_cota_out = pd.read_csv('COTAHIST_M102022.csv', sep=';')\n",
    "# Gera um DataFrame com os últimos 3 meses\n",
    "df_cota = pd.concat([df_cota_ago, df_cota_set, df_cota_out])\n",
    "print(df_cota)"
   ]
  },
  {
   "cell_type": "markdown",
   "metadata": {},
   "source": [
    "# Tratamentos dos dados"
   ]
  },
  {
   "cell_type": "code",
   "execution_count": 25,
   "metadata": {},
   "outputs": [
    {
     "data": {
      "text/html": [
       "<div>\n",
       "<style scoped>\n",
       "    .dataframe tbody tr th:only-of-type {\n",
       "        vertical-align: middle;\n",
       "    }\n",
       "\n",
       "    .dataframe tbody tr th {\n",
       "        vertical-align: top;\n",
       "    }\n",
       "\n",
       "    .dataframe thead th {\n",
       "        text-align: right;\n",
       "    }\n",
       "</style>\n",
       "<table border=\"1\" class=\"dataframe\">\n",
       "  <thead>\n",
       "    <tr style=\"text-align: right;\">\n",
       "      <th></th>\n",
       "      <th>DATAPREGAO</th>\n",
       "      <th>CODNEG</th>\n",
       "      <th>PREULT</th>\n",
       "      <th>TOTNEG</th>\n",
       "    </tr>\n",
       "  </thead>\n",
       "  <tbody>\n",
       "    <tr>\n",
       "      <th>0</th>\n",
       "      <td>20220801</td>\n",
       "      <td>A1BB34</td>\n",
       "      <td>38.88</td>\n",
       "      <td>1</td>\n",
       "    </tr>\n",
       "    <tr>\n",
       "      <th>1</th>\n",
       "      <td>20220801</td>\n",
       "      <td>A1CR34</td>\n",
       "      <td>67.34</td>\n",
       "      <td>113</td>\n",
       "    </tr>\n",
       "    <tr>\n",
       "      <th>2</th>\n",
       "      <td>20220801</td>\n",
       "      <td>A1DM34</td>\n",
       "      <td>436.45</td>\n",
       "      <td>4</td>\n",
       "    </tr>\n",
       "    <tr>\n",
       "      <th>3</th>\n",
       "      <td>20220801</td>\n",
       "      <td>A1EG34</td>\n",
       "      <td>22.59</td>\n",
       "      <td>5</td>\n",
       "    </tr>\n",
       "    <tr>\n",
       "      <th>4</th>\n",
       "      <td>20220801</td>\n",
       "      <td>A1EN34</td>\n",
       "      <td>314.24</td>\n",
       "      <td>60</td>\n",
       "    </tr>\n",
       "    <tr>\n",
       "      <th>5</th>\n",
       "      <td>20220801</td>\n",
       "      <td>A1IV34</td>\n",
       "      <td>42.24</td>\n",
       "      <td>4</td>\n",
       "    </tr>\n",
       "    <tr>\n",
       "      <th>6</th>\n",
       "      <td>20220801</td>\n",
       "      <td>A1KA34</td>\n",
       "      <td>40.92</td>\n",
       "      <td>1</td>\n",
       "    </tr>\n",
       "    <tr>\n",
       "      <th>7</th>\n",
       "      <td>20220801</td>\n",
       "      <td>A1LB34</td>\n",
       "      <td>1247.17</td>\n",
       "      <td>3</td>\n",
       "    </tr>\n",
       "    <tr>\n",
       "      <th>8</th>\n",
       "      <td>20220801</td>\n",
       "      <td>A1LL34</td>\n",
       "      <td>51.00</td>\n",
       "      <td>2</td>\n",
       "    </tr>\n",
       "    <tr>\n",
       "      <th>9</th>\n",
       "      <td>20220801</td>\n",
       "      <td>A1MB34</td>\n",
       "      <td>376.80</td>\n",
       "      <td>1</td>\n",
       "    </tr>\n",
       "  </tbody>\n",
       "</table>\n",
       "</div>"
      ],
      "text/plain": [
       "   DATAPREGAO  CODNEG   PREULT  TOTNEG\n",
       "0    20220801  A1BB34    38.88       1\n",
       "1    20220801  A1CR34    67.34     113\n",
       "2    20220801  A1DM34   436.45       4\n",
       "3    20220801  A1EG34    22.59       5\n",
       "4    20220801  A1EN34   314.24      60\n",
       "5    20220801  A1IV34    42.24       4\n",
       "6    20220801  A1KA34    40.92       1\n",
       "7    20220801  A1LB34  1247.17       3\n",
       "8    20220801  A1LL34    51.00       2\n",
       "9    20220801  A1MB34   376.80       1"
      ]
     },
     "execution_count": 25,
     "metadata": {},
     "output_type": "execute_result"
    }
   ],
   "source": [
    "df_cota.dtypes\n",
    "df_cota['PREULT'] = df_cota['PREULT']/100 \n",
    "df_cota.head(10)"
   ]
  },
  {
   "cell_type": "markdown",
   "metadata": {},
   "source": [
    "## Seleciona o ativo aleatório"
   ]
  },
  {
   "cell_type": "code",
   "execution_count": 26,
   "metadata": {},
   "outputs": [
    {
     "name": "stdout",
     "output_type": "stream",
     "text": [
      "    CODNEG  SOMATOTNEG\n",
      "0    VALE3     4062773\n",
      "1   BOVA11     3870049\n",
      "2    PETR4     3793421\n",
      "3    MGLU3     3353350\n",
      "4    ITUB4     3321356\n",
      "..     ...         ...\n",
      "95  VGIA11      697771\n",
      "96   CBAV3      691429\n",
      "97   BRAP4      680851\n",
      "98  BBAS3F      680191\n",
      "99  ENGI11      668636\n",
      "\n",
      "[100 rows x 2 columns]\n"
     ]
    }
   ],
   "source": [
    "# Seleciona os 100 ativos mais negociados nos últimos 3 meses\n",
    "mais_negociados = \"\"\"SELECT a.CODNEG,\n",
    "                            SUM(a.TOTNEG) SOMATOTNEG\n",
    "                     FROM df_cota a\n",
    "                     GROUP BY a.CODNEG\n",
    "                     ORDER BY SUM(a.TOTNEG) DESC\n",
    "                     LIMIT 100\n",
    "         ;\"\"\"\n",
    "\n",
    "df_mais_neg = pysqldf(mais_negociados)\n",
    "\n",
    "#  Exibe o resultado\n",
    "print(df_mais_neg)"
   ]
  },
  {
   "cell_type": "code",
   "execution_count": 30,
   "metadata": {},
   "outputs": [
    {
     "name": "stdout",
     "output_type": "stream",
     "text": [
      "68    INBR32\n",
      "Name: CODNEG, dtype: object\n"
     ]
    }
   ],
   "source": [
    "# Filtra ativo aleatorio\n",
    "df_ativo_aleatorio = df_mais_neg['CODNEG']\n",
    "df_ativo_aleatorio = df_ativo_aleatorio.sample(n=1, replace=False)\n",
    "print(df_ativo_aleatorio)"
   ]
  },
  {
   "cell_type": "code",
   "execution_count": 34,
   "metadata": {},
   "outputs": [
    {
     "name": "stdout",
     "output_type": "stream",
     "text": [
      "    DATAPREGAO  CODNEG  PREULT  TOTNEG\n",
      "0     20220829  INBR32   21.50   12550\n",
      "1     20220830  INBR32   20.80   16714\n",
      "2     20220831  INBR32   20.80   22991\n",
      "3     20220916  INBR32   20.89   23312\n",
      "4     20220901  INBR32   22.33   14734\n",
      "5     20220909  INBR32   21.30   37176\n",
      "6     20220919  INBR32   20.89   12891\n",
      "7     20220902  INBR32   21.00   13545\n",
      "8     20220923  INBR32   20.92   30034\n",
      "9     20220912  INBR32   21.86   24548\n",
      "10    20220905  INBR32   21.00    6807\n",
      "11    20220920  INBR32   21.63   13158\n",
      "12    20220913  INBR32   21.57   10687\n",
      "13    20220906  INBR32   19.75   30433\n",
      "14    20220921  INBR32   21.66   10112\n",
      "15    20220926  INBR32   20.00   17357\n",
      "16    20220914  INBR32   22.40   15451\n",
      "17    20220908  INBR32   20.56   19675\n",
      "18    20220922  INBR32   22.34   11560\n",
      "19    20220915  INBR32   21.48   13498\n",
      "20    20220930  INBR32   17.40   41954\n",
      "21    20220927  INBR32   18.99   19017\n",
      "22    20220928  INBR32   18.02   72957\n",
      "23    20220929  INBR32   17.84   86671\n",
      "24    20221014  INBR32   15.49   17295\n",
      "25    20221003  INBR32   18.15   25599\n",
      "26    20221024  INBR32   14.98   14247\n",
      "27    20221017  INBR32   15.96   12093\n",
      "28    20221004  INBR32   16.89   29753\n",
      "29    20221018  INBR32   15.70   12367\n",
      "30    20221025  INBR32   15.10   15602\n",
      "31    20221005  INBR32   17.08   14232\n",
      "32    20221019  INBR32   14.95   38930\n",
      "33    20221026  INBR32   14.33   24009\n",
      "34    20221006  INBR32   16.99   16549\n",
      "35    20221020  INBR32   15.10   13975\n",
      "36    20221027  INBR32   15.05   10284\n",
      "37    20221021  INBR32   15.49   19620\n",
      "38    20221007  INBR32   16.50   23946\n",
      "39    20221028  INBR32   14.98   14969\n",
      "40    20221010  INBR32   16.03   27412\n",
      "41    20221011  INBR32   15.92   22002\n",
      "42    20221031  INBR32   15.54   23712\n",
      "43    20221013  INBR32   16.26   18208\n"
     ]
    }
   ],
   "source": [
    "# Filtra os dados da B3 para pegar somente o ativo aleatório selecionado\n",
    "df_tendencia = df_cota.merge(df_ativo_aleatorio, how='inner', on='CODNEG')\n",
    "print(df_tendencia)"
   ]
  },
  {
   "cell_type": "markdown",
   "metadata": {},
   "source": [
    "## Análise da tendência"
   ]
  },
  {
   "cell_type": "code",
   "execution_count": 32,
   "metadata": {},
   "outputs": [
    {
     "name": "stdout",
     "output_type": "stream",
     "text": [
      "     TIPO TENDENCIA TENDENCIA_CONFIRMADA  QUANTIDADE\n",
      "0    ALTA       NAO                  NAO          18\n",
      "1   BAIXA       NAO                  NAO          22\n",
      "2   BAIXA       SIM                  SIM           1\n",
      "3  NEUTRA       NAO                  NAO           3\n"
     ]
    }
   ],
   "source": [
    "# Verifica a variação do preço de fechamento\n",
    "consulta = \"\"\"SELECT d.TIPO,\n",
    "                     d.TENDENCIA,\n",
    "                     d.TENDENCIA_CONFIRMADA,\n",
    "                     count(*) QUANTIDADE\n",
    "              FROM ( \n",
    "                        SELECT c.CODNEG,\n",
    "                        c.DATAPREGAO,\n",
    "                        c.PREULT,\n",
    "                        c.TIPO,\n",
    "                        -- DESCONSIDERA SE A LINHA ANTERIOR FOR DA MESMA TENDENCIA PRA NAO CONTABILIZAR DOBRADO\n",
    "                        case when LAG(TENDENCIA,1,0) OVER (PARTITION BY CODNEG ORDER BY DATAPREGAO) = TENDENCIA\n",
    "                                        then 'NAO' else  TENDENCIA END AS TENDENCIA,\n",
    "                        -- DESCONSIDERA SE A LINHA ANTERIOR TAMBEM FOR DE TENDENCIA CONFIRMADA PRA NAO CONTABILIZAR DOBRADO\n",
    "                        case when LAG(TENDENCIA_CONFIRMADA,1,0) OVER (PARTITION BY CODNEG ORDER BY DATAPREGAO) = TENDENCIA_CONFIRMADA\n",
    "                                        then 'NAO' else  TENDENCIA_CONFIRMADA END AS TENDENCIA_CONFIRMADA\n",
    "                        FROM (\n",
    "                                SELECT  b.*,\n",
    "                                        -- VERIFICA SE EXISTE A TENDENCIA NOS PROXIMOS 4 DIAS\n",
    "                                        CASE WHEN LEAD(TIPO,1,0) OVER (PARTITION BY CODNEG ORDER BY DATAPREGAO) = TIPO\n",
    "                                                AND LEAD(TIPO,2,0) OVER (PARTITION BY CODNEG ORDER BY DATAPREGAO) = TIPO\n",
    "                                                        AND LEAD(TIPO,3,0) OVER (PARTITION BY CODNEG ORDER BY DATAPREGAO) = TIPO\n",
    "                                                                AND LEAD(TIPO,4,0) OVER (PARTITION BY CODNEG ORDER BY DATAPREGAO) = TIPO\n",
    "                                                                        THEN 'SIM' \n",
    "                                        ELSE 'NAO' \n",
    "                                        END AS TENDENCIA,\n",
    "                                        -- VERIFICA SE A TENDENCIA SE CONFIRMOU NOS PROXIMOS 5 DIAS\n",
    "                                        CASE WHEN LEAD(TIPO,1,0) OVER (PARTITION BY CODNEG ORDER BY DATAPREGAO) = TIPO\n",
    "                                                AND LEAD(TIPO,2,0) OVER (PARTITION BY CODNEG ORDER BY DATAPREGAO) = TIPO\n",
    "                                                        AND LEAD(TIPO,3,0) OVER (PARTITION BY CODNEG ORDER BY DATAPREGAO) = TIPO\n",
    "                                                                AND LEAD(TIPO,4,0) OVER (PARTITION BY CODNEG ORDER BY DATAPREGAO) = TIPO\n",
    "                                                                        AND LEAD(TIPO,5,0) OVER (PARTITION BY CODNEG ORDER BY DATAPREGAO) = TIPO\n",
    "                                                                                THEN 'SIM' \n",
    "                                        ELSE 'NAO' \n",
    "                                        END AS TENDENCIA_CONFIRMADA\n",
    "                                FROM   (\n",
    "                                        SELECT\n",
    "                                                A.CODNEG,\n",
    "                                                A.DATAPREGAO,\n",
    "                                                A.PREULT,\n",
    "                                                -- VERIFICA O TIPO DA TENDENCIA, COMPARANDO COM A LINHA ANTERIOR\n",
    "                                                CASE WHEN a.PREULT > (LAG(PREULT, 1, 0) OVER (PARTITION BY CODNEG ORDER BY DATAPREGAO)) THEN 'ALTA' \n",
    "                                                WHEN a.PREULT < (LAG(PREULT, 1, 0) OVER (PARTITION BY CODNEG ORDER BY DATAPREGAO)) THEN 'BAIXA' \n",
    "                                                else 'NEUTRA'\n",
    "                                                END AS TIPO        \n",
    "                                        FROM df_tendencia a\n",
    "                                        ORDER BY a.CODNEG, a.DATAPREGAO\n",
    "                                        ) b\n",
    "                                ) c \n",
    "                        ) d\n",
    "                GROUP BY d.TIPO, d.TENDENCIA, d.TENDENCIA_CONFIRMADA\n",
    "         ;\"\"\"\n",
    "\n",
    "df_tendencia = pysqldf(consulta)\n",
    "\n",
    "#  Exibe o resultado\n",
    "print(df_tendencia)"
   ]
  }
 ],
 "metadata": {
  "kernelspec": {
   "display_name": "Python 3.11.0 64-bit",
   "language": "python",
   "name": "python3"
  },
  "language_info": {
   "codemirror_mode": {
    "name": "ipython",
    "version": 3
   },
   "file_extension": ".py",
   "mimetype": "text/x-python",
   "name": "python",
   "nbconvert_exporter": "python",
   "pygments_lexer": "ipython3",
   "version": "3.11.0"
  },
  "orig_nbformat": 4,
  "vscode": {
   "interpreter": {
    "hash": "ddbcaf5f2756c97f70d8a44e5a5c552c80264eca2993178ae5882b6c9232e4ca"
   }
  }
 },
 "nbformat": 4,
 "nbformat_minor": 2
}
